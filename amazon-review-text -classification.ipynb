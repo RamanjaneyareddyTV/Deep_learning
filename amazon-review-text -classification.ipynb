{
 "cells": [
  {
   "cell_type": "markdown",
   "id": "59c61619",
   "metadata": {
    "papermill": {
     "duration": 0.025583,
     "end_time": "2021-11-04T11:25:59.815806",
     "exception": false,
     "start_time": "2021-11-04T11:25:59.790223",
     "status": "completed"
    },
    "tags": []
   },
   "source": [
    "### Library"
   ]
  },
  {
   "cell_type": "code",
   "execution_count": 1,
   "id": "1d88c1e4",
   "metadata": {
    "_cell_guid": "b1076dfc-b9ad-4769-8c92-a6c4dae69d19",
    "_uuid": "8f2839f25d086af736a60e9eeb907d3b93b6e0e5",
    "papermill": {
     "duration": 2.128104,
     "end_time": "2021-11-04T11:26:01.970942",
     "exception": false,
     "start_time": "2021-11-04T11:25:59.842838",
     "status": "completed"
    },
    "tags": []
   },
   "outputs": [],
   "source": [
    "import pandas as pd \n",
    "import numpy as np \n",
    "import matplotlib.pyplot as plt \n",
    "import seaborn as sns \n",
    "import re \n",
    "%matplotlib inline \n",
    "\n",
    "import warnings\n",
    "warnings.filterwarnings(\"ignore\")\n",
    "plt.style.use('ggplot')\n",
    "\n",
    "import nltk\n",
    "from nltk import word_tokenize\n",
    "\n",
    "from sklearn.feature_extraction.text import CountVectorizer\n",
    "from sklearn.feature_extraction.text import TfidfVectorizer\n",
    "from collections import Counter\n",
    "from wordcloud import WordCloud\n",
    "\n",
    "from sklearn.model_selection import train_test_split\n",
    "from sklearn.linear_model import LogisticRegression\n",
    "from sklearn.ensemble import RandomForestClassifier\n",
    "from sklearn.metrics import accuracy_score\n",
    "from sklearn.metrics import f1_score"
   ]
  },
  {
   "cell_type": "code",
   "execution_count": 2,
   "id": "043010a3",
   "metadata": {
    "papermill": {
     "duration": 8.921214,
     "end_time": "2021-11-04T11:26:10.918081",
     "exception": false,
     "start_time": "2021-11-04T11:26:01.996867",
     "status": "completed"
    },
    "tags": []
   },
   "outputs": [],
   "source": [
    "df = pd.read_csv('Reviews.csv')"
   ]
  },
  {
   "cell_type": "code",
   "execution_count": 3,
   "id": "343ef890",
   "metadata": {
    "papermill": {
     "duration": 0.062388,
     "end_time": "2021-11-04T11:26:11.006455",
     "exception": false,
     "start_time": "2021-11-04T11:26:10.944067",
     "status": "completed"
    },
    "tags": []
   },
   "outputs": [
    {
     "name": "stdout",
     "output_type": "stream",
     "text": [
      "(568454, 10)\n"
     ]
    },
    {
     "data": {
      "text/html": [
       "<div>\n",
       "<style scoped>\n",
       "    .dataframe tbody tr th:only-of-type {\n",
       "        vertical-align: middle;\n",
       "    }\n",
       "\n",
       "    .dataframe tbody tr th {\n",
       "        vertical-align: top;\n",
       "    }\n",
       "\n",
       "    .dataframe thead th {\n",
       "        text-align: right;\n",
       "    }\n",
       "</style>\n",
       "<table border=\"1\" class=\"dataframe\">\n",
       "  <thead>\n",
       "    <tr style=\"text-align: right;\">\n",
       "      <th></th>\n",
       "      <th>Id</th>\n",
       "      <th>ProductId</th>\n",
       "      <th>UserId</th>\n",
       "      <th>ProfileName</th>\n",
       "      <th>HelpfulnessNumerator</th>\n",
       "      <th>HelpfulnessDenominator</th>\n",
       "      <th>Score</th>\n",
       "      <th>Time</th>\n",
       "      <th>Summary</th>\n",
       "      <th>Text</th>\n",
       "    </tr>\n",
       "  </thead>\n",
       "  <tbody>\n",
       "    <tr>\n",
       "      <th>0</th>\n",
       "      <td>1</td>\n",
       "      <td>B001E4KFG0</td>\n",
       "      <td>A3SGXH7AUHU8GW</td>\n",
       "      <td>delmartian</td>\n",
       "      <td>1</td>\n",
       "      <td>1</td>\n",
       "      <td>5</td>\n",
       "      <td>1303862400</td>\n",
       "      <td>Good Quality Dog Food</td>\n",
       "      <td>I have bought several of the Vitality canned d...</td>\n",
       "    </tr>\n",
       "    <tr>\n",
       "      <th>1</th>\n",
       "      <td>2</td>\n",
       "      <td>B00813GRG4</td>\n",
       "      <td>A1D87F6ZCVE5NK</td>\n",
       "      <td>dll pa</td>\n",
       "      <td>0</td>\n",
       "      <td>0</td>\n",
       "      <td>1</td>\n",
       "      <td>1346976000</td>\n",
       "      <td>Not as Advertised</td>\n",
       "      <td>Product arrived labeled as Jumbo Salted Peanut...</td>\n",
       "    </tr>\n",
       "    <tr>\n",
       "      <th>2</th>\n",
       "      <td>3</td>\n",
       "      <td>B000LQOCH0</td>\n",
       "      <td>ABXLMWJIXXAIN</td>\n",
       "      <td>Natalia Corres \"Natalia Corres\"</td>\n",
       "      <td>1</td>\n",
       "      <td>1</td>\n",
       "      <td>4</td>\n",
       "      <td>1219017600</td>\n",
       "      <td>\"Delight\" says it all</td>\n",
       "      <td>This is a confection that has been around a fe...</td>\n",
       "    </tr>\n",
       "  </tbody>\n",
       "</table>\n",
       "</div>"
      ],
      "text/plain": [
       "   Id   ProductId          UserId                      ProfileName  \\\n",
       "0   1  B001E4KFG0  A3SGXH7AUHU8GW                       delmartian   \n",
       "1   2  B00813GRG4  A1D87F6ZCVE5NK                           dll pa   \n",
       "2   3  B000LQOCH0   ABXLMWJIXXAIN  Natalia Corres \"Natalia Corres\"   \n",
       "\n",
       "   HelpfulnessNumerator  HelpfulnessDenominator  Score        Time  \\\n",
       "0                     1                       1      5  1303862400   \n",
       "1                     0                       0      1  1346976000   \n",
       "2                     1                       1      4  1219017600   \n",
       "\n",
       "                 Summary                                               Text  \n",
       "0  Good Quality Dog Food  I have bought several of the Vitality canned d...  \n",
       "1      Not as Advertised  Product arrived labeled as Jumbo Salted Peanut...  \n",
       "2  \"Delight\" says it all  This is a confection that has been around a fe...  "
      ]
     },
     "execution_count": 3,
     "metadata": {},
     "output_type": "execute_result"
    }
   ],
   "source": [
    "print(df.shape)\n",
    "df.head(3)"
   ]
  },
  {
   "cell_type": "code",
   "execution_count": 4,
   "id": "1a287ba7",
   "metadata": {
    "papermill": {
     "duration": 0.247993,
     "end_time": "2021-11-04T11:26:11.282049",
     "exception": false,
     "start_time": "2021-11-04T11:26:11.034056",
     "status": "completed"
    },
    "tags": []
   },
   "outputs": [
    {
     "name": "stdout",
     "output_type": "stream",
     "text": [
      "(113691, 10)\n"
     ]
    },
    {
     "data": {
      "text/html": [
       "<div>\n",
       "<style scoped>\n",
       "    .dataframe tbody tr th:only-of-type {\n",
       "        vertical-align: middle;\n",
       "    }\n",
       "\n",
       "    .dataframe tbody tr th {\n",
       "        vertical-align: top;\n",
       "    }\n",
       "\n",
       "    .dataframe thead th {\n",
       "        text-align: right;\n",
       "    }\n",
       "</style>\n",
       "<table border=\"1\" class=\"dataframe\">\n",
       "  <thead>\n",
       "    <tr style=\"text-align: right;\">\n",
       "      <th></th>\n",
       "      <th>Id</th>\n",
       "      <th>ProductId</th>\n",
       "      <th>UserId</th>\n",
       "      <th>ProfileName</th>\n",
       "      <th>HelpfulnessNumerator</th>\n",
       "      <th>HelpfulnessDenominator</th>\n",
       "      <th>Score</th>\n",
       "      <th>Time</th>\n",
       "      <th>Summary</th>\n",
       "      <th>Text</th>\n",
       "    </tr>\n",
       "  </thead>\n",
       "  <tbody>\n",
       "    <tr>\n",
       "      <th>0</th>\n",
       "      <td>288499</td>\n",
       "      <td>B000ENUC3S</td>\n",
       "      <td>A1XKHAW6JX686J</td>\n",
       "      <td>Rockville Rock Lover</td>\n",
       "      <td>3</td>\n",
       "      <td>14</td>\n",
       "      <td>1</td>\n",
       "      <td>1146096000</td>\n",
       "      <td>Oh it was AWFUL!</td>\n",
       "      <td>Having read the other reviews, I wonder if min...</td>\n",
       "    </tr>\n",
       "    <tr>\n",
       "      <th>1</th>\n",
       "      <td>137995</td>\n",
       "      <td>B0002SQ1MG</td>\n",
       "      <td>A1FJ2ZN9U24FMI</td>\n",
       "      <td>Alfredo Kuba \"HERBIVORE\"</td>\n",
       "      <td>0</td>\n",
       "      <td>0</td>\n",
       "      <td>5</td>\n",
       "      <td>1297987200</td>\n",
       "      <td>ABSOLUTELY THE BEST DOG AND CAT FOOD BAR NONE!</td>\n",
       "      <td>Evolution Diet food is by far the healthiest d...</td>\n",
       "    </tr>\n",
       "    <tr>\n",
       "      <th>2</th>\n",
       "      <td>129594</td>\n",
       "      <td>B000BICL9O</td>\n",
       "      <td>A2K6EZTL2UVHLU</td>\n",
       "      <td>Dr. Sean Hokari \"432 o'kelly\"</td>\n",
       "      <td>2</td>\n",
       "      <td>2</td>\n",
       "      <td>5</td>\n",
       "      <td>1337731200</td>\n",
       "      <td>Sweet Pork!</td>\n",
       "      <td>I am currently visiting Minneapolis, MN, from ...</td>\n",
       "    </tr>\n",
       "    <tr>\n",
       "      <th>3</th>\n",
       "      <td>79360</td>\n",
       "      <td>B003TNANSO</td>\n",
       "      <td>ACSGOJCV2169G</td>\n",
       "      <td>Darlene Klischer</td>\n",
       "      <td>0</td>\n",
       "      <td>0</td>\n",
       "      <td>5</td>\n",
       "      <td>1334880000</td>\n",
       "      <td>Super fresh and good</td>\n",
       "      <td>These KIND bars are the best bars I have ever ...</td>\n",
       "    </tr>\n",
       "    <tr>\n",
       "      <th>4</th>\n",
       "      <td>559189</td>\n",
       "      <td>B001IZM91Y</td>\n",
       "      <td>A2C8O554YMY2ZL</td>\n",
       "      <td>Bixby \"Bixby\"</td>\n",
       "      <td>1</td>\n",
       "      <td>2</td>\n",
       "      <td>1</td>\n",
       "      <td>1326153600</td>\n",
       "      <td>Very Fatty With Bone Chips</td>\n",
       "      <td>The flavoring in this was just not very good b...</td>\n",
       "    </tr>\n",
       "  </tbody>\n",
       "</table>\n",
       "</div>"
      ],
      "text/plain": [
       "       Id   ProductId          UserId                    ProfileName  \\\n",
       "0  288499  B000ENUC3S  A1XKHAW6JX686J           Rockville Rock Lover   \n",
       "1  137995  B0002SQ1MG  A1FJ2ZN9U24FMI       Alfredo Kuba \"HERBIVORE\"   \n",
       "2  129594  B000BICL9O  A2K6EZTL2UVHLU  Dr. Sean Hokari \"432 o'kelly\"   \n",
       "3   79360  B003TNANSO   ACSGOJCV2169G               Darlene Klischer   \n",
       "4  559189  B001IZM91Y  A2C8O554YMY2ZL                  Bixby \"Bixby\"   \n",
       "\n",
       "   HelpfulnessNumerator  HelpfulnessDenominator  Score        Time  \\\n",
       "0                     3                      14      1  1146096000   \n",
       "1                     0                       0      5  1297987200   \n",
       "2                     2                       2      5  1337731200   \n",
       "3                     0                       0      5  1334880000   \n",
       "4                     1                       2      1  1326153600   \n",
       "\n",
       "                                          Summary  \\\n",
       "0                                Oh it was AWFUL!   \n",
       "1  ABSOLUTELY THE BEST DOG AND CAT FOOD BAR NONE!   \n",
       "2                                     Sweet Pork!   \n",
       "3                            Super fresh and good   \n",
       "4                      Very Fatty With Bone Chips   \n",
       "\n",
       "                                                Text  \n",
       "0  Having read the other reviews, I wonder if min...  \n",
       "1  Evolution Diet food is by far the healthiest d...  \n",
       "2  I am currently visiting Minneapolis, MN, from ...  \n",
       "3  These KIND bars are the best bars I have ever ...  \n",
       "4  The flavoring in this was just not very good b...  "
      ]
     },
     "execution_count": 4,
     "metadata": {},
     "output_type": "execute_result"
    }
   ],
   "source": [
    "# for all data is too heavy, make it slim by chose\n",
    "df2 = df.sample(frac= 0.20,replace = True).reset_index(drop = True)\n",
    "\n",
    "print(df2.shape)\n",
    "df2.head()"
   ]
  },
  {
   "cell_type": "code",
   "execution_count": 5,
   "id": "e8244768",
   "metadata": {
    "papermill": {
     "duration": 0.17301,
     "end_time": "2021-11-04T11:26:11.483784",
     "exception": false,
     "start_time": "2021-11-04T11:26:11.310774",
     "status": "completed"
    },
    "tags": []
   },
   "outputs": [
    {
     "name": "stdout",
     "output_type": "stream",
     "text": [
      "<class 'pandas.core.frame.DataFrame'>\n",
      "RangeIndex: 113691 entries, 0 to 113690\n",
      "Data columns (total 10 columns):\n",
      " #   Column                  Non-Null Count   Dtype \n",
      "---  ------                  --------------   ----- \n",
      " 0   Id                      113691 non-null  int64 \n",
      " 1   ProductId               113691 non-null  object\n",
      " 2   UserId                  113691 non-null  object\n",
      " 3   ProfileName             113686 non-null  object\n",
      " 4   HelpfulnessNumerator    113691 non-null  int64 \n",
      " 5   HelpfulnessDenominator  113691 non-null  int64 \n",
      " 6   Score                   113691 non-null  int64 \n",
      " 7   Time                    113691 non-null  int64 \n",
      " 8   Summary                 113683 non-null  object\n",
      " 9   Text                    113691 non-null  object\n",
      "dtypes: int64(5), object(5)\n",
      "memory usage: 8.7+ MB\n"
     ]
    }
   ],
   "source": [
    "df2.info()"
   ]
  },
  {
   "cell_type": "code",
   "execution_count": 6,
   "id": "753df51b",
   "metadata": {
    "papermill": {
     "duration": 0.445389,
     "end_time": "2021-11-04T11:26:11.959080",
     "exception": false,
     "start_time": "2021-11-04T11:26:11.513691",
     "status": "completed"
    },
    "tags": []
   },
   "outputs": [
    {
     "name": "stdout",
     "output_type": "stream",
     "text": [
      "Id                        0\n",
      "ProductId                 0\n",
      "UserId                    0\n",
      "ProfileName               5\n",
      "HelpfulnessNumerator      0\n",
      "HelpfulnessDenominator    0\n",
      "Score                     0\n",
      "Time                      0\n",
      "Summary                   8\n",
      "Text                      0\n",
      "dtype: int64\n"
     ]
    },
    {
     "data": {
      "text/plain": [
       "Id                        0\n",
       "ProductId                 0\n",
       "UserId                    0\n",
       "ProfileName               0\n",
       "HelpfulnessNumerator      0\n",
       "HelpfulnessDenominator    0\n",
       "Score                     0\n",
       "Time                      0\n",
       "Summary                   0\n",
       "Text                      0\n",
       "dtype: int64"
      ]
     },
     "execution_count": 6,
     "metadata": {},
     "output_type": "execute_result"
    }
   ],
   "source": [
    "print(df2.isna().sum())\n",
    "df2.dropna(inplace= True)\n",
    "df2.isna().sum()"
   ]
  },
  {
   "cell_type": "markdown",
   "id": "19925354",
   "metadata": {
    "papermill": {
     "duration": 0.029361,
     "end_time": "2021-11-04T11:26:12.017095",
     "exception": false,
     "start_time": "2021-11-04T11:26:11.987734",
     "status": "completed"
    },
    "tags": []
   },
   "source": [
    "What is the distribution of ratings across dataset"
   ]
  },
  {
   "cell_type": "code",
   "execution_count": 7,
   "id": "4268e037",
   "metadata": {
    "papermill": {
     "duration": 0.04722,
     "end_time": "2021-11-04T11:26:12.092876",
     "exception": false,
     "start_time": "2021-11-04T11:26:12.045656",
     "status": "completed"
    },
    "tags": []
   },
   "outputs": [
    {
     "name": "stdout",
     "output_type": "stream",
     "text": [
      "5    72720\n",
      "4    16115\n",
      "1    10387\n",
      "3     8573\n",
      "2     5883\n",
      "Name: Score, dtype: int64\n"
     ]
    },
    {
     "data": {
      "text/plain": [
       "5    12.792592\n",
       "4     2.834882\n",
       "1     1.827237\n",
       "3     1.508126\n",
       "2     1.034912\n",
       "Name: Score, dtype: float64"
      ]
     },
     "execution_count": 7,
     "metadata": {},
     "output_type": "execute_result"
    }
   ],
   "source": [
    "print(df2['Score'].value_counts())\n",
    "rating_pct = df2['Score'].value_counts()/len(df) * 100\n",
    "rating_pct"
   ]
  },
  {
   "cell_type": "markdown",
   "id": "c0417b88",
   "metadata": {
    "papermill": {
     "duration": 0.028856,
     "end_time": "2021-11-04T11:26:12.151837",
     "exception": false,
     "start_time": "2021-11-04T11:26:12.122981",
     "status": "completed"
    },
    "tags": []
   },
   "source": [
    "### ditsributoin review(score)"
   ]
  },
  {
   "cell_type": "code",
   "execution_count": 8,
   "id": "65762dcd",
   "metadata": {
    "papermill": {
     "duration": 0.223586,
     "end_time": "2021-11-04T11:26:12.406755",
     "exception": false,
     "start_time": "2021-11-04T11:26:12.183169",
     "status": "completed"
    },
    "tags": []
   },
   "outputs": [
    {
     "data": {
      "image/png": "[encoded data removed]",
      "text/plain": [
       "<Figure size 432x288 with 1 Axes>"
      ]
     },
     "metadata": {},
     "output_type": "display_data"
    }
   ],
   "source": [
    "rating_pct.plot.bar()\n",
    "plt.show()"
   ]
  },
  {
   "cell_type": "code",
   "execution_count": 9,
   "id": "a09d2f41",
   "metadata": {
    "papermill": {
     "duration": 1.194007,
     "end_time": "2021-11-04T11:26:13.631329",
     "exception": false,
     "start_time": "2021-11-04T11:26:12.437322",
     "status": "completed"
    },
    "tags": []
   },
   "outputs": [
    {
     "data": {
      "image/png": "[encoded data removed]",
      "text/plain": [
       "<Figure size 1008x432 with 1 Axes>"
      ]
     },
     "metadata": {},
     "output_type": "display_data"
    }
   ],
   "source": [
    "#words per review\n",
    "plt.figure(figsize = (14,6))\n",
    "WordsPerReview = df2['Text'].apply(lambda x: len(x.split(' ')))\n",
    "\n",
    "sns.histplot(WordsPerReview,bins = 100)\n",
    "\n",
    "plt.xlabel('Review Length')\n",
    "plt.show()"
   ]
  },
  {
   "cell_type": "markdown",
   "id": "b64c1c80",
   "metadata": {
    "papermill": {
     "duration": 0.042612,
     "end_time": "2021-11-04T11:26:48.180506",
     "exception": false,
     "start_time": "2021-11-04T11:26:48.137894",
     "status": "completed"
    },
    "tags": []
   },
   "source": [
    "#### Data Preprocessing and Transformation"
   ]
  },
  {
   "cell_type": "code",
   "execution_count": 10,
   "id": "283d8320",
   "metadata": {
    "papermill": {
     "duration": 0.062387,
     "end_time": "2021-11-04T11:26:48.278432",
     "exception": false,
     "start_time": "2021-11-04T11:26:48.216045",
     "status": "completed"
    },
    "tags": []
   },
   "outputs": [],
   "source": [
    "df2 = pd.DataFrame(df2,columns = ['Score','Text'])\n",
    "df2.rename(columns = {'Score':'Rating','Text':'Review'},inplace = True)"
   ]
  },
  {
   "cell_type": "code",
   "execution_count": 11,
   "id": "32a09ba5-ad8b-4663-b09b-d10e61e8e3e5",
   "metadata": {},
   "outputs": [
    {
     "data": {
      "text/html": [
       "<div>\n",
       "<style scoped>\n",
       "    .dataframe tbody tr th:only-of-type {\n",
       "        vertical-align: middle;\n",
       "    }\n",
       "\n",
       "    .dataframe tbody tr th {\n",
       "        vertical-align: top;\n",
       "    }\n",
       "\n",
       "    .dataframe thead th {\n",
       "        text-align: right;\n",
       "    }\n",
       "</style>\n",
       "<table border=\"1\" class=\"dataframe\">\n",
       "  <thead>\n",
       "    <tr style=\"text-align: right;\">\n",
       "      <th></th>\n",
       "      <th>Rating</th>\n",
       "      <th>Review</th>\n",
       "    </tr>\n",
       "  </thead>\n",
       "  <tbody>\n",
       "    <tr>\n",
       "      <th>0</th>\n",
       "      <td>1</td>\n",
       "      <td>Having read the other reviews, I wonder if min...</td>\n",
       "    </tr>\n",
       "    <tr>\n",
       "      <th>1</th>\n",
       "      <td>5</td>\n",
       "      <td>Evolution Diet food is by far the healthiest d...</td>\n",
       "    </tr>\n",
       "    <tr>\n",
       "      <th>2</th>\n",
       "      <td>5</td>\n",
       "      <td>I am currently visiting Minneapolis, MN, from ...</td>\n",
       "    </tr>\n",
       "    <tr>\n",
       "      <th>3</th>\n",
       "      <td>5</td>\n",
       "      <td>These KIND bars are the best bars I have ever ...</td>\n",
       "    </tr>\n",
       "    <tr>\n",
       "      <th>4</th>\n",
       "      <td>1</td>\n",
       "      <td>The flavoring in this was just not very good b...</td>\n",
       "    </tr>\n",
       "  </tbody>\n",
       "</table>\n",
       "</div>"
      ],
      "text/plain": [
       "   Rating                                             Review\n",
       "0       1  Having read the other reviews, I wonder if min...\n",
       "1       5  Evolution Diet food is by far the healthiest d...\n",
       "2       5  I am currently visiting Minneapolis, MN, from ...\n",
       "3       5  These KIND bars are the best bars I have ever ...\n",
       "4       1  The flavoring in this was just not very good b..."
      ]
     },
     "execution_count": 11,
     "metadata": {},
     "output_type": "execute_result"
    }
   ],
   "source": [
    "df2.head()"
   ]
  },
  {
   "cell_type": "code",
   "execution_count": 12,
   "id": "c428e5da",
   "metadata": {
    "papermill": {
     "duration": 0.042336,
     "end_time": "2021-11-04T11:26:48.357243",
     "exception": false,
     "start_time": "2021-11-04T11:26:48.314907",
     "status": "completed"
    },
    "tags": []
   },
   "outputs": [],
   "source": [
    "def apply_sentiment(Rating):\n",
    "    if(Rating <=2 ):\n",
    "        return 0\n",
    "    else:\n",
    "        return 1"
   ]
  },
  {
   "cell_type": "code",
   "execution_count": 13,
   "id": "d9a57535",
   "metadata": {
    "papermill": {
     "duration": 0.131565,
     "end_time": "2021-11-04T11:26:48.523649",
     "exception": false,
     "start_time": "2021-11-04T11:26:48.392084",
     "status": "completed"
    },
    "tags": []
   },
   "outputs": [],
   "source": [
    "df2['Sentiment'] = df2['Rating'].apply(apply_sentiment)\n",
    "df2.drop(['Rating'],axis = 1, inplace = True)"
   ]
  },
  {
   "cell_type": "code",
   "execution_count": 14,
   "id": "4891e916",
   "metadata": {
    "papermill": {
     "duration": 0.046467,
     "end_time": "2021-11-04T11:26:48.604709",
     "exception": false,
     "start_time": "2021-11-04T11:26:48.558242",
     "status": "completed"
    },
    "tags": []
   },
   "outputs": [
    {
     "data": {
      "text/plain": [
       "1    97408\n",
       "0    16270\n",
       "Name: Sentiment, dtype: int64"
      ]
     },
     "execution_count": 14,
     "metadata": {},
     "output_type": "execute_result"
    }
   ],
   "source": [
    "sentiment = df2['Sentiment'].value_counts()\n",
    "sentiment"
   ]
  },
  {
   "cell_type": "code",
   "execution_count": 15,
   "id": "f08a9d8a",
   "metadata": {
    "papermill": {
     "duration": 0.180246,
     "end_time": "2021-11-04T11:26:48.819901",
     "exception": false,
     "start_time": "2021-11-04T11:26:48.639655",
     "status": "completed"
    },
    "tags": []
   },
   "outputs": [
    {
     "data": {
      "image/png": "[encoded data removed]",
      "text/plain": [
       "<Figure size 720x576 with 1 Axes>"
      ]
     },
     "metadata": {},
     "output_type": "display_data"
    }
   ],
   "source": [
    "plt.figure(figsize = ( 10,8))\n",
    "sns.countplot(data = df2, x = 'Sentiment')\n",
    "plt.show()"
   ]
  },
  {
   "cell_type": "code",
   "execution_count": 16,
   "id": "59465b35",
   "metadata": {
    "papermill": {
     "duration": 0.046116,
     "end_time": "2021-11-04T11:26:48.901834",
     "exception": false,
     "start_time": "2021-11-04T11:26:48.855718",
     "status": "completed"
    },
    "tags": []
   },
   "outputs": [],
   "source": [
    "def clean_text(Review):\n",
    "   \n",
    "    Review = str(Review).lower() # convert to lowercase\n",
    "    Review = re.sub('\\[.*?\\]', '', Review) \n",
    "    Review = re.sub('https?://\\S+|www\\.\\S+', '', Review) # Remove URls\n",
    "    Review = re.sub('<.*?>+', '', Review)\n",
    "    Review = re.sub(r'[^a-z0-9\\s]', '', Review) # Remove punctuation\n",
    "    Review = re.sub('\\n', '', Review)\n",
    "    Review = re.sub('\\w*\\d\\w*', '', Review)\n",
    "    return Review"
   ]
  },
  {
   "cell_type": "code",
   "execution_count": 17,
   "id": "261be04e",
   "metadata": {
    "papermill": {
     "duration": 0.046904,
     "end_time": "2021-11-04T11:26:48.984655",
     "exception": false,
     "start_time": "2021-11-04T11:26:48.937751",
     "status": "completed"
    },
    "tags": []
   },
   "outputs": [
    {
     "data": {
      "text/plain": [
       "0         Having read the other reviews, I wonder if min...\n",
       "1         Evolution Diet food is by far the healthiest d...\n",
       "2         I am currently visiting Minneapolis, MN, from ...\n",
       "3         These KIND bars are the best bars I have ever ...\n",
       "4         The flavoring in this was just not very good b...\n",
       "                                ...                        \n",
       "113686    I love the taste of the granola. It makes for ...\n",
       "113687    Like a good bottle of scotch - a very rich and...\n",
       "113688    I had recently bought an Hawaiian Ice Machine ...\n",
       "113689    These are awesome! Both the Lime and Mango are...\n",
       "113690    I ate all 6 cans within the first 48 hours.  A...\n",
       "Name: Review, Length: 113678, dtype: object"
      ]
     },
     "execution_count": 17,
     "metadata": {},
     "output_type": "execute_result"
    }
   ],
   "source": [
    "df2['Review']"
   ]
  },
  {
   "cell_type": "code",
   "execution_count": 18,
   "id": "acfcc945",
   "metadata": {
    "papermill": {
     "duration": 14.187171,
     "end_time": "2021-11-04T11:27:03.209509",
     "exception": false,
     "start_time": "2021-11-04T11:26:49.022338",
     "status": "completed"
    },
    "tags": []
   },
   "outputs": [],
   "source": [
    "df2['Review'] = df2['Review'].apply(clean_text)"
   ]
  },
  {
   "cell_type": "code",
   "execution_count": 19,
   "id": "2eccb78b",
   "metadata": {
    "papermill": {
     "duration": 0.050435,
     "end_time": "2021-11-04T11:27:03.296355",
     "exception": false,
     "start_time": "2021-11-04T11:27:03.245920",
     "status": "completed"
    },
    "tags": []
   },
   "outputs": [
    {
     "data": {
      "text/html": [
       "<div>\n",
       "<style scoped>\n",
       "    .dataframe tbody tr th:only-of-type {\n",
       "        vertical-align: middle;\n",
       "    }\n",
       "\n",
       "    .dataframe tbody tr th {\n",
       "        vertical-align: top;\n",
       "    }\n",
       "\n",
       "    .dataframe thead th {\n",
       "        text-align: right;\n",
       "    }\n",
       "</style>\n",
       "<table border=\"1\" class=\"dataframe\">\n",
       "  <thead>\n",
       "    <tr style=\"text-align: right;\">\n",
       "      <th></th>\n",
       "      <th>Review</th>\n",
       "      <th>Sentiment</th>\n",
       "    </tr>\n",
       "  </thead>\n",
       "  <tbody>\n",
       "    <tr>\n",
       "      <th>0</th>\n",
       "      <td>having read the other reviews i wonder if mine...</td>\n",
       "      <td>0</td>\n",
       "    </tr>\n",
       "    <tr>\n",
       "      <th>1</th>\n",
       "      <td>evolution diet food is by far the healthiest d...</td>\n",
       "      <td>1</td>\n",
       "    </tr>\n",
       "    <tr>\n",
       "      <th>2</th>\n",
       "      <td>i am currently visiting minneapolis mn from ja...</td>\n",
       "      <td>1</td>\n",
       "    </tr>\n",
       "    <tr>\n",
       "      <th>3</th>\n",
       "      <td>these kind bars are the best bars i have ever ...</td>\n",
       "      <td>1</td>\n",
       "    </tr>\n",
       "    <tr>\n",
       "      <th>4</th>\n",
       "      <td>the flavoring in this was just not very good b...</td>\n",
       "      <td>0</td>\n",
       "    </tr>\n",
       "  </tbody>\n",
       "</table>\n",
       "</div>"
      ],
      "text/plain": [
       "                                              Review  Sentiment\n",
       "0  having read the other reviews i wonder if mine...          0\n",
       "1  evolution diet food is by far the healthiest d...          1\n",
       "2  i am currently visiting minneapolis mn from ja...          1\n",
       "3  these kind bars are the best bars i have ever ...          1\n",
       "4  the flavoring in this was just not very good b...          0"
      ]
     },
     "execution_count": 19,
     "metadata": {},
     "output_type": "execute_result"
    }
   ],
   "source": [
    "df2.head()"
   ]
  },
  {
   "cell_type": "code",
   "execution_count": 20,
   "id": "36aa223f-0bfb-47be-90bc-d33da5ae9570",
   "metadata": {},
   "outputs": [],
   "source": [
    "import spacy\n",
    "nlp = spacy.load(\"en_core_web_sm\")\n",
    "stopwords = nlp.Defaults.stop_words\n",
    "df2['Review']= df2['Review'].apply(lambda x:' '.join([i for i in x.split() if i not in stopwords]))"
   ]
  },
  {
   "cell_type": "code",
   "execution_count": 21,
   "id": "16afb9ae",
   "metadata": {
    "papermill": {
     "duration": 0.052056,
     "end_time": "2021-11-04T11:28:22.849371",
     "exception": false,
     "start_time": "2021-11-04T11:28:22.797315",
     "status": "completed"
    },
    "tags": []
   },
   "outputs": [
    {
     "data": {
      "text/html": [
       "<div>\n",
       "<style scoped>\n",
       "    .dataframe tbody tr th:only-of-type {\n",
       "        vertical-align: middle;\n",
       "    }\n",
       "\n",
       "    .dataframe tbody tr th {\n",
       "        vertical-align: top;\n",
       "    }\n",
       "\n",
       "    .dataframe thead th {\n",
       "        text-align: right;\n",
       "    }\n",
       "</style>\n",
       "<table border=\"1\" class=\"dataframe\">\n",
       "  <thead>\n",
       "    <tr style=\"text-align: right;\">\n",
       "      <th></th>\n",
       "      <th>Review</th>\n",
       "      <th>Sentiment</th>\n",
       "    </tr>\n",
       "  </thead>\n",
       "  <tbody>\n",
       "    <tr>\n",
       "      <th>0</th>\n",
       "      <td>having read reviews wonder gone bad fermented ...</td>\n",
       "      <td>0</td>\n",
       "    </tr>\n",
       "    <tr>\n",
       "      <th>1</th>\n",
       "      <td>evolution diet food far healthiest dog cat foo...</td>\n",
       "      <td>1</td>\n",
       "    </tr>\n",
       "    <tr>\n",
       "      <th>2</th>\n",
       "      <td>currently visiting minneapolis mn japan enjoyi...</td>\n",
       "      <td>1</td>\n",
       "    </tr>\n",
       "  </tbody>\n",
       "</table>\n",
       "</div>"
      ],
      "text/plain": [
       "                                              Review  Sentiment\n",
       "0  having read reviews wonder gone bad fermented ...          0\n",
       "1  evolution diet food far healthiest dog cat foo...          1\n",
       "2  currently visiting minneapolis mn japan enjoyi...          1"
      ]
     },
     "execution_count": 21,
     "metadata": {},
     "output_type": "execute_result"
    }
   ],
   "source": [
    "df2.head(3)"
   ]
  },
  {
   "cell_type": "code",
   "execution_count": 22,
   "id": "fa6a2a1e",
   "metadata": {
    "papermill": {
     "duration": 0.051946,
     "end_time": "2021-11-04T11:28:22.939079",
     "exception": false,
     "start_time": "2021-11-04T11:28:22.887133",
     "status": "completed"
    },
    "tags": []
   },
   "outputs": [],
   "source": [
    "from sklearn.pipeline import Pipeline\n",
    "from sklearn.feature_extraction.text import CountVectorizer, TfidfVectorizer, TfidfTransformer\n",
    "from sklearn.naive_bayes import MultinomialNB\n",
    "clf = Pipeline([\n",
    "    ('vect', CountVectorizer(stop_words= \"english\")),\n",
    "    ('tfidf', TfidfTransformer()),\n",
    "    ('classifier', MultinomialNB()),\n",
    "    ])"
   ]
  },
  {
   "cell_type": "code",
   "execution_count": 23,
   "id": "0b5cdb7f",
   "metadata": {
    "papermill": {
     "duration": 0.045364,
     "end_time": "2021-11-04T11:28:23.021615",
     "exception": false,
     "start_time": "2021-11-04T11:28:22.976251",
     "status": "completed"
    },
    "tags": []
   },
   "outputs": [],
   "source": [
    "X = df2['Review']\n",
    "y = df2['Sentiment']"
   ]
  },
  {
   "cell_type": "code",
   "execution_count": 24,
   "id": "771dd691",
   "metadata": {
    "papermill": {
     "duration": 0.093541,
     "end_time": "2021-11-04T11:28:23.155164",
     "exception": false,
     "start_time": "2021-11-04T11:28:23.061623",
     "status": "completed"
    },
    "tags": []
   },
   "outputs": [
    {
     "data": {
      "text/plain": [
       "((90942,), (22736,), (90942,))"
      ]
     },
     "execution_count": 24,
     "metadata": {},
     "output_type": "execute_result"
    }
   ],
   "source": [
    "from sklearn.model_selection import train_test_split\n",
    "X_train, X_test, y_train, y_test = train_test_split(X, y,random_state = 42,\n",
    "                                                   test_size = 0.20)\n",
    "X_train.shape,X_test.shape,y_train.shape"
   ]
  },
  {
   "cell_type": "code",
   "execution_count": 25,
   "id": "6e3c6da4",
   "metadata": {
    "papermill": {
     "duration": 6.040631,
     "end_time": "2021-11-04T11:28:29.240165",
     "exception": false,
     "start_time": "2021-11-04T11:28:23.199534",
     "status": "completed"
    },
    "tags": []
   },
   "outputs": [],
   "source": [
    "fit_model = clf.fit(X_train,y_train)"
   ]
  },
  {
   "cell_type": "code",
   "execution_count": 27,
   "id": "b4d1f5a2",
   "metadata": {
    "papermill": {
     "duration": 1.421221,
     "end_time": "2021-11-04T11:28:30.699349",
     "exception": false,
     "start_time": "2021-11-04T11:28:29.278128",
     "status": "completed"
    },
    "tags": []
   },
   "outputs": [],
   "source": [
    "y_pred = clf.predict(X_test)"
   ]
  },
  {
   "cell_type": "code",
   "execution_count": 28,
   "id": "d9421051-3e1d-4169-aff9-948da983b123",
   "metadata": {},
   "outputs": [
    {
     "data": {
      "text/plain": [
       "0.858286418015482"
      ]
     },
     "execution_count": 28,
     "metadata": {},
     "output_type": "execute_result"
    }
   ],
   "source": [
    "accuracy_score(y_test, y_pred)"
   ]
  },
  {
   "cell_type": "code",
   "execution_count": 29,
   "id": "ada5aa6a",
   "metadata": {
    "papermill": {
     "duration": 6.791296,
     "end_time": "2021-11-04T11:28:37.528091",
     "exception": false,
     "start_time": "2021-11-04T11:28:30.736795",
     "status": "completed"
    },
    "tags": []
   },
   "outputs": [
    {
     "name": "stdout",
     "output_type": "stream",
     "text": [
      "Training accuracy: 0.8595918277583515\n",
      "Test accuracy: 0.858286418015482\n"
     ]
    }
   ],
   "source": [
    "print('Training accuracy:', fit_model.score(X_train,y_train))\n",
    "print('Test accuracy:', fit_model.score(X_test,y_test))"
   ]
  },
  {
   "cell_type": "code",
   "execution_count": null,
   "id": "52e9b5c3-3e52-4f0c-b184-a899b91cc2eb",
   "metadata": {},
   "outputs": [],
   "source": []
  }
 ],
 "metadata": {
  "kernelspec": {
   "display_name": "Python 3 (ipykernel)",
   "language": "python",
   "name": "python3"
  },
  "language_info": {
   "codemirror_mode": {
    "name": "ipython",
    "version": 3
   },
   "file_extension": ".py",
   "mimetype": "text/x-python",
   "name": "python",
   "nbconvert_exporter": "python",
   "pygments_lexer": "ipython3",
   "version": "3.9.8"
  },
  "papermill": {
   "default_parameters": {},
   "duration": 167.933758,
   "end_time": "2021-11-04T11:28:39.231129",
   "environment_variables": {},
   "exception": null,
   "input_path": "__notebook__.ipynb",
   "output_path": "__notebook__.ipynb",
   "parameters": {},
   "start_time": "2021-11-04T11:25:51.297371",
   "version": "2.3.3"
  }
 },
 "nbformat": 4,
 "nbformat_minor": 5
}
